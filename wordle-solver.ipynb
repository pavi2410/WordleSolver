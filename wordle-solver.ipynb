{
 "cells": [
  {
   "cell_type": "code",
   "execution_count": 61,
   "id": "c12c14bc",
   "metadata": {},
   "outputs": [
    {
     "name": "stdout",
     "output_type": "stream",
     "text": [
      "Requirement already satisfied: english-words in /opt/conda/lib/python3.9/site-packages (1.1.0)\r\n"
     ]
    }
   ],
   "source": [
    "!pip install english-words"
   ]
  },
  {
   "cell_type": "code",
   "execution_count": 62,
   "id": "6de88338",
   "metadata": {
    "scrolled": true
   },
   "outputs": [
    {
     "name": "stdout",
     "output_type": "stream",
     "text": [
      "25463 3213\n"
     ]
    }
   ],
   "source": [
    "from english_words import english_words_lower_alpha_set\n",
    "\n",
    "words5l = [w for w in english_words_lower_alpha_set if len(w) == 5]\n",
    "\n",
    "print(len(english_words_lower_alpha_set), len(words5l))"
   ]
  },
  {
   "cell_type": "code",
   "execution_count": 63,
   "id": "e0156a95",
   "metadata": {},
   "outputs": [
    {
     "name": "stdout",
     "output_type": "stream",
     "text": [
      "mezzo\n"
     ]
    }
   ],
   "source": [
    "from random import choice\n",
    "\n",
    "random_word = choice(words5l)\n",
    "print(random_word)"
   ]
  },
  {
   "cell_type": "code",
   "execution_count": 64,
   "id": "2e1a0daa",
   "metadata": {},
   "outputs": [],
   "source": [
    "def word_contains_letter(word):\n",
    "    if not posl: return True\n",
    "    return len(set(word) & posl) > 0\n",
    "\n",
    "def word_doesnt_contain_letters(word):\n",
    "    return len(set(word) & imposl) == 0\n",
    "\n",
    "def word_matches_fixed(word):\n",
    "    for i in range(5):\n",
    "        p = word[i]\n",
    "        q = fixed[i]\n",
    "        \n",
    "        if q and p != q:\n",
    "            return False\n",
    "    return True"
   ]
  },
  {
   "cell_type": "code",
   "execution_count": 65,
   "id": "6990f11c",
   "metadata": {},
   "outputs": [
    {
     "name": "stdout",
     "output_type": "stream",
     "text": [
      "\theuristics:\n",
      "\tpossible letters = set()\n",
      "\timpossible letters = set()\n",
      "\tfixed letters = [None, None, None, None, None]\n",
      "[1/6] Trying alley\n",
      "\theuristics:\n",
      "\tpossible letters = {'e'}\n",
      "\timpossible letters = {'l', 'a', 'y'}\n",
      "\tfixed letters = [None, None, None, None, None]\n",
      "[2/6] Trying femur\n",
      "\theuristics:\n",
      "\tpossible letters = {'m', 'e'}\n",
      "\timpossible letters = {'u', 'l', 'r', 'a', 'y', 'f'}\n",
      "\tfixed letters = [None, 'e', None, None, None]\n",
      "[3/6] Trying begin\n",
      "\theuristics:\n",
      "\tpossible letters = {'m', 'e'}\n",
      "\timpossible letters = {'u', 'l', 'i', 'r', 'a', 'y', 'n', 'b', 'g', 'f'}\n",
      "\tfixed letters = [None, 'e', None, None, None]\n",
      "[4/6] Trying mezzo\n",
      "Word matched...\n",
      "you won!!!\n"
     ]
    }
   ],
   "source": [
    "posl = set() # ('a', True)\n",
    "imposl = set() # 'a'\n",
    "fixed = [None]*5\n",
    "\n",
    "won = False\n",
    "\n",
    "for t in range(6):\n",
    "    print('\\theuristics:')\n",
    "    print('\\tpossible letters =', posl)\n",
    "    print('\\timpossible letters =', imposl)\n",
    "    print('\\tfixed letters =', fixed)\n",
    "    guess = [w for w in words5l if word_contains_letter(w) and word_doesnt_contain_letters(w) and word_matches_fixed(w)]\n",
    "    if not guess:\n",
    "        print('out of words...')\n",
    "        break\n",
    "    guess = guess[0]\n",
    "    print(f'[{t+1}/6] Trying {guess}')\n",
    "    if guess == random_word:\n",
    "        print('Word matched...')\n",
    "        won = True\n",
    "        break\n",
    "    else:\n",
    "        for i in range(5):\n",
    "            p = random_word[i]\n",
    "            q = guess[i]\n",
    "            \n",
    "            if p == q:\n",
    "                fixed[i] = q\n",
    "            elif q in random_word:\n",
    "                posl.add(q)\n",
    "            else:\n",
    "                imposl.add(q)\n",
    "        imposl -= (set(fixed) - set([None]))\n",
    "\n",
    "if won:\n",
    "    print('you won!!!')\n",
    "else:\n",
    "    print('you lost...')"
   ]
  }
 ],
 "metadata": {
  "kernelspec": {
   "display_name": "Python 3 (ipykernel)",
   "language": "python",
   "name": "python3"
  },
  "language_info": {
   "codemirror_mode": {
    "name": "ipython",
    "version": 3
   },
   "file_extension": ".py",
   "mimetype": "text/x-python",
   "name": "python",
   "nbconvert_exporter": "python",
   "pygments_lexer": "ipython3",
   "version": "3.9.10"
  }
 },
 "nbformat": 4,
 "nbformat_minor": 5
}
